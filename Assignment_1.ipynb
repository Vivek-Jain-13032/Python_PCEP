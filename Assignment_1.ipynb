{
  "nbformat": 4,
  "nbformat_minor": 0,
  "metadata": {
    "colab": {
      "provenance": [],
      "authorship_tag": "ABX9TyMpEAu3RQsQ5O51m0JuCyyT",
      "include_colab_link": true
    },
    "kernelspec": {
      "name": "python3",
      "display_name": "Python 3"
    },
    "language_info": {
      "name": "python"
    }
  },
  "cells": [
    {
      "cell_type": "markdown",
      "metadata": {
        "id": "view-in-github",
        "colab_type": "text"
      },
      "source": [
        "<a href=\"https://colab.research.google.com/github/Vivek-Jain-13032/Python_PCEP/blob/main/Assignment_1.ipynb\" target=\"_parent\"><img src=\"https://colab.research.google.com/assets/colab-badge.svg\" alt=\"Open In Colab\"/></a>"
      ]
    },
    {
      "cell_type": "code",
      "execution_count": 1,
      "metadata": {
        "colab": {
          "base_uri": "https://localhost:8080/"
        },
        "id": "fVBL-7QnX89C",
        "outputId": "65ca761d-fb9e-47c3-851b-b7a137f5b67e"
      },
      "outputs": [
        {
          "output_type": "stream",
          "name": "stdout",
          "text": [
            "4\n"
          ]
        }
      ],
      "source": [
        "# 1. What is the output of the following code?\n",
        "\n",
        "nums = set([1,1,2,3,3,3,4,4])\n",
        "print(len(nums))"
      ]
    },
    {
      "cell_type": "code",
      "source": [
        "# 2. What will be the output?\n",
        "d = {\"john\":40, \"peter\":45}\n",
        "print(list(d.keys()))"
      ],
      "metadata": {
        "colab": {
          "base_uri": "https://localhost:8080/"
        },
        "id": "oPNAuye1YNnI",
        "outputId": "3ff0e8ca-39f4-410b-d832-202af380bff8"
      },
      "execution_count": 2,
      "outputs": [
        {
          "output_type": "stream",
          "name": "stdout",
          "text": [
            "['john', 'peter']\n"
          ]
        }
      ]
    },
    {
      "cell_type": "code",
      "source": [
        "# 3. A website requires a user to input username and password to register. Write a program to check the validity of password given by user. Following are the criteria for checking password:\n",
        "# a) At least 1 letter between [a-z]\n",
        "# b) At least 1 number between [0-9]\n",
        "# c) At least 1 letter between [A-Z]\n",
        "# d) At least 1 character from [$#@]\n",
        "# e) Minimum length of transaction password: 6\n",
        "# f) Maximum length of transaction password: 12\n",
        "\n",
        "\n",
        "import re\n",
        "\n",
        "def validate_password(password):\n",
        "    if (6 <= len(password) <= 12\n",
        "        and re.search(r'[a-z]', password)\n",
        "        and re.search(r'[A-Z]', password)\n",
        "        and re.search(r'[0-9]', password)\n",
        "        and re.search(r'[$#@]', password)):\n",
        "        return True\n",
        "    return False\n",
        "\n",
        "password = input(\"Enter a password: \")\n",
        "if validate_password(password):\n",
        "    print(\"Valid password\")\n",
        "else:\n",
        "    print(\"Invalid password\")\n"
      ],
      "metadata": {
        "colab": {
          "base_uri": "https://localhost:8080/"
        },
        "id": "Rag8wpgLYVdk",
        "outputId": "7e16593d-785a-4219-ecd4-9202e082b1a9"
      },
      "execution_count": 5,
      "outputs": [
        {
          "output_type": "stream",
          "name": "stdout",
          "text": [
            "Enter a password: Python@123\n",
            "Valid password\n"
          ]
        }
      ]
    },
    {
      "cell_type": "code",
      "source": [
        "# 4. Write a for loop that prints all elements of a list and their position in the list.\n",
        "\n",
        "a = [4, 7, 3, 2, 5, 9]\n",
        "for index, value in enumerate(a):\n",
        "    print(f\"Element at position {index} is {value}\")\n"
      ],
      "metadata": {
        "colab": {
          "base_uri": "https://localhost:8080/"
        },
        "id": "6Ye97bwgYujt",
        "outputId": "1ea65ef8-24c0-4abf-a93e-308e046d5c82"
      },
      "execution_count": 6,
      "outputs": [
        {
          "output_type": "stream",
          "name": "stdout",
          "text": [
            "Element at position 0 is 4\n",
            "Element at position 1 is 7\n",
            "Element at position 2 is 3\n",
            "Element at position 3 is 2\n",
            "Element at position 4 is 5\n",
            "Element at position 5 is 9\n"
          ]
        }
      ]
    },
    {
      "cell_type": "code",
      "source": [
        "# 5. Please write a program which accepts a string from console and print the characters that have even indexes.\n",
        "# Example: If the following string is given as input to the program: H1e2l3l4o5w6o7r8l9d\n",
        "# Then, the output of the program should be: Helloworld\n",
        "\n",
        "string = input(\"Enter a string: \")\n",
        "result = string[::2]\n",
        "print(result)\n"
      ],
      "metadata": {
        "colab": {
          "base_uri": "https://localhost:8080/"
        },
        "id": "7yPlCT-LY445",
        "outputId": "4c7f97f8-0565-4437-c20e-193272b86a4f"
      },
      "execution_count": 7,
      "outputs": [
        {
          "output_type": "stream",
          "name": "stdout",
          "text": [
            "Enter a string: H1e2l3l4o5w6o7r8l9d\n",
            "Helloworld\n"
          ]
        }
      ]
    },
    {
      "cell_type": "code",
      "source": [
        "# 6. Please write a program which accepts a string from console and print it in reverse order.\n",
        "string = input(\"Enter a string: \")\n",
        "print(string[::-1])\n"
      ],
      "metadata": {
        "colab": {
          "base_uri": "https://localhost:8080/"
        },
        "id": "B_OUn1Y4ZITm",
        "outputId": "a6ab793d-e27c-4907-c5d5-3c55cfbe2eaf"
      },
      "execution_count": 9,
      "outputs": [
        {
          "output_type": "stream",
          "name": "stdout",
          "text": [
            "Enter a string: Vivek Jain\n",
            "niaJ keviV\n"
          ]
        }
      ]
    },
    {
      "cell_type": "code",
      "source": [
        "# 7. Please write a program which count and print the numbers of each character in a string input by console.\n",
        "from collections import Counter\n",
        "\n",
        "string = input(\"Enter a string: \")\n",
        "counter = Counter(string)\n",
        "\n",
        "for char, count in counter.items():\n",
        "    print(f\"{char},{count}\")\n"
      ],
      "metadata": {
        "colab": {
          "base_uri": "https://localhost:8080/"
        },
        "id": "_y5pPCRNZYUk",
        "outputId": "d93bdec1-d719-4455-be56-5cbd44bf0aa9"
      },
      "execution_count": 11,
      "outputs": [
        {
          "output_type": "stream",
          "name": "stdout",
          "text": [
            "Enter a string: Vivek Jain\n",
            "V,1\n",
            "i,2\n",
            "v,1\n",
            "e,1\n",
            "k,1\n",
            " ,1\n",
            "J,1\n",
            "a,1\n",
            "n,1\n"
          ]
        }
      ]
    },
    {
      "cell_type": "code",
      "source": [
        "# 8. With two given lists [1,3,6,78,35,55] and [12,24,35,24,88,120,155], write a program to make a list whose elements are intersection of the above given lists.\n",
        "\n",
        "list1 = [1, 3, 6, 78, 35, 55]\n",
        "list2 = [12, 24, 35, 24, 88, 120, 155]\n",
        "intersection = list(set(list1) & set(list2))\n",
        "print(intersection)\n"
      ],
      "metadata": {
        "colab": {
          "base_uri": "https://localhost:8080/"
        },
        "id": "a2QkRcfuZiUE",
        "outputId": "79986d25-781e-48d1-c26c-633065bf7af3"
      },
      "execution_count": 12,
      "outputs": [
        {
          "output_type": "stream",
          "name": "stdout",
          "text": [
            "[35]\n"
          ]
        }
      ]
    },
    {
      "cell_type": "code",
      "source": [
        "# 9. With a given list [12,24,35,24,88,120,155,88,120,155], write a program to print this list after removing all duplicate values with original order reserved.\n",
        "lst = [12, 24, 35, 24, 88, 120, 155, 88, 120, 155]\n",
        "result = []\n",
        "for item in lst:\n",
        "    if item not in result:\n",
        "        result.append(item)\n",
        "print(result)\n"
      ],
      "metadata": {
        "colab": {
          "base_uri": "https://localhost:8080/"
        },
        "id": "u9vMcbMrZvjx",
        "outputId": "5adbe42f-9849-4b04-dce2-c380362f5308"
      },
      "execution_count": 13,
      "outputs": [
        {
          "output_type": "stream",
          "name": "stdout",
          "text": [
            "[12, 24, 35, 88, 120, 155]\n"
          ]
        }
      ]
    },
    {
      "cell_type": "code",
      "source": [
        "# 10. By using list comprehension, please write a program to print the list after removing the value 24 in [12,24,35,24,88,120,155].\n",
        "\n",
        "lst = [12, 24, 35, 24, 88, 120, 155]\n",
        "result = [x for x in lst if x != 24]\n",
        "print(result)\n"
      ],
      "metadata": {
        "colab": {
          "base_uri": "https://localhost:8080/"
        },
        "id": "bhn8a-QCZzSy",
        "outputId": "8f339ce4-7191-4d21-a232-a21026b5aeb9"
      },
      "execution_count": 14,
      "outputs": [
        {
          "output_type": "stream",
          "name": "stdout",
          "text": [
            "[12, 35, 88, 120, 155]\n"
          ]
        }
      ]
    },
    {
      "cell_type": "code",
      "source": [
        "# 11. By using list comprehension, please write a program to print the list after removing the 0th,4th,5th numbers in [12,24,35,70,88,120,155].\n",
        "lst = [12, 24, 35, 70, 88, 120, 155]\n",
        "result = [x for i, x in enumerate(lst) if i not in (0, 4, 5)]\n",
        "print(result)\n"
      ],
      "metadata": {
        "colab": {
          "base_uri": "https://localhost:8080/"
        },
        "id": "xB6Onhjga3pV",
        "outputId": "e6d15476-ac9b-44dd-e254-5ee6c86c135f"
      },
      "execution_count": 15,
      "outputs": [
        {
          "output_type": "stream",
          "name": "stdout",
          "text": [
            "[24, 35, 70, 155]\n"
          ]
        }
      ]
    },
    {
      "cell_type": "code",
      "source": [
        "# 12. . By using list comprehension, please write a program to print the list after removing delete numbers which are divisible by 5 and 7 in [12,24,35,70,88,120,155].\n",
        "lst = [12, 24, 35, 70, 88, 120, 155]\n",
        "result = [x for x in lst if x % 35 != 0]\n",
        "print(result)\n"
      ],
      "metadata": {
        "colab": {
          "base_uri": "https://localhost:8080/"
        },
        "id": "MxY3-RNPa6uS",
        "outputId": "944c2dcb-9959-475d-bb26-c8fa2cd2928f"
      },
      "execution_count": 16,
      "outputs": [
        {
          "output_type": "stream",
          "name": "stdout",
          "text": [
            "[12, 24, 88, 120, 155]\n"
          ]
        }
      ]
    },
    {
      "cell_type": "code",
      "source": [
        "# 13. Please write a program to randomly generate a list with 5 numbers, which are divisible by 5 and 7 , between 1 and 1000 inclusive.\n",
        "\n",
        "import random\n",
        "\n",
        "result = random.sample([x for x in range(1, 1001) if x % 35 == 0], 5)\n",
        "print(result)\n"
      ],
      "metadata": {
        "colab": {
          "base_uri": "https://localhost:8080/"
        },
        "id": "gSaU3ka9a_uX",
        "outputId": "ac899d14-3886-4db2-f246-1294579887eb"
      },
      "execution_count": 17,
      "outputs": [
        {
          "output_type": "stream",
          "name": "stdout",
          "text": [
            "[280, 560, 385, 665, 70]\n"
          ]
        }
      ]
    },
    {
      "cell_type": "code",
      "source": [
        "# 14. Write a program to compute 1/2+2/3+3/4+...+n/n+1 with a given n input by console (n>0).\n",
        "n = int(input(\"Enter a number: \"))\n",
        "result = sum(i / (i + 1) for i in range(1, n + 1))\n",
        "print(round(result, 2))\n"
      ],
      "metadata": {
        "colab": {
          "base_uri": "https://localhost:8080/"
        },
        "id": "_L3wgO-NbD3K",
        "outputId": "979d5c79-f211-4af5-ab0d-9850dda31e8f"
      },
      "execution_count": 18,
      "outputs": [
        {
          "output_type": "stream",
          "name": "stdout",
          "text": [
            "Enter a number: 12\n",
            "9.82\n"
          ]
        }
      ]
    }
  ]
}