{
  "nbformat": 4,
  "nbformat_minor": 0,
  "metadata": {
    "colab": {
      "provenance": [],
      "authorship_tag": "ABX9TyP5l9/HH7Y18gD/48SdNo9k",
      "include_colab_link": true
    },
    "kernelspec": {
      "name": "python3",
      "display_name": "Python 3"
    },
    "language_info": {
      "name": "python"
    }
  },
  "cells": [
    {
      "cell_type": "markdown",
      "metadata": {
        "id": "view-in-github",
        "colab_type": "text"
      },
      "source": [
        "<a href=\"https://colab.research.google.com/github/Vivek-Jain-13032/Python_PCEP/blob/main/Assessment_3%264.ipynb\" target=\"_parent\"><img src=\"https://colab.research.google.com/assets/colab-badge.svg\" alt=\"Open In Colab\"/></a>"
      ]
    },
    {
      "cell_type": "code",
      "execution_count": 19,
      "metadata": {
        "colab": {
          "base_uri": "https://localhost:8080/"
        },
        "id": "fd4jeIVakDOw",
        "outputId": "d72530eb-62dc-4b74-aece-acc99ef0669f"
      },
      "outputs": [
        {
          "output_type": "stream",
          "name": "stdout",
          "text": [
            "Stack elements: [1, 2, 3]\n",
            "Popped element: 3\n",
            "Stack elements: [1, 2]\n"
          ]
        }
      ],
      "source": [
        "# 1.Write a Python program to create a class representing a stack data structure. Include methods for pushing and popping elements.\n",
        "class Stack:\n",
        "    def __init__(self):\n",
        "        self.stack = []\n",
        "\n",
        "    def push(self, item):\n",
        "        self.stack.append(item)\n",
        "\n",
        "    def pop(self):\n",
        "        if len(self.stack) == 0:\n",
        "            return \"Stack is empty\"\n",
        "        return self.stack.pop()\n",
        "\n",
        "    def display(self):\n",
        "        print(\"Stack elements:\", self.stack)\n",
        "\n",
        "stack = Stack()\n",
        "stack.push(1)\n",
        "stack.push(2)\n",
        "stack.push(3)\n",
        "stack.display()\n",
        "print(\"Popped element:\", stack.pop())\n",
        "stack.display()\n"
      ]
    },
    {
      "cell_type": "code",
      "source": [
        "# 2.Write a Python program to create a class representing a linked list data structure. Include methods for displaying linked list data, inserting and deleting nodes.\n",
        "class Node:\n",
        "    def __init__(self, data):\n",
        "        self.data = data\n",
        "        self.next = None\n",
        "\n",
        "class LinkedList:\n",
        "    def __init__(self):\n",
        "        self.head = None\n",
        "\n",
        "    def insert(self, data):\n",
        "        new_node = Node(data)\n",
        "        if self.head is None:\n",
        "            self.head = new_node\n",
        "        else:\n",
        "            temp = self.head\n",
        "            while temp.next:\n",
        "                temp = temp.next\n",
        "            temp.next = new_node\n",
        "\n",
        "\n",
        "    def delete(self, key):\n",
        "        temp = self.head\n",
        "        if temp and temp.data == key:\n",
        "            self.head = temp.next\n",
        "            temp = None\n",
        "            return\n",
        "        prev = None\n",
        "        while temp and temp.data != key:\n",
        "            prev = temp\n",
        "            temp = temp.next\n",
        "        if temp is None:\n",
        "            print(\"Node not found\")\n",
        "            return\n",
        "        prev.next = temp.next\n",
        "        temp = None\n",
        "\n",
        "\n",
        "    def display(self):\n",
        "        temp = self.head\n",
        "        if not temp:\n",
        "            print(\"Linked List is empty\")\n",
        "        else:\n",
        "            while temp:\n",
        "                print(temp.data, end=\" -> \")\n",
        "                temp = temp.next\n",
        "            print(\"None\")\n",
        "\n",
        "\n",
        "ll = LinkedList()\n",
        "ll.insert(10)\n",
        "ll.insert(20)\n",
        "ll.insert(30)\n",
        "ll.display()\n",
        "ll.delete(20)\n",
        "ll.display()\n"
      ],
      "metadata": {
        "colab": {
          "base_uri": "https://localhost:8080/"
        },
        "id": "7okxmiEzkCRh",
        "outputId": "9ec805a2-e6bc-4b93-a132-3289cfbd6922"
      },
      "execution_count": 20,
      "outputs": [
        {
          "output_type": "stream",
          "name": "stdout",
          "text": [
            "10 -> 20 -> 30 -> None\n",
            "10 -> 30 -> None\n"
          ]
        }
      ]
    },
    {
      "cell_type": "code",
      "source": [
        "# 3. Write a Python program to create a class representing a shopping cart. Include methods for adding and removing items, and calculating the total price.\n",
        "class ShoppingCart:\n",
        "    def __init__(self):\n",
        "        self.cart = {}\n",
        "\n",
        "    def add_item(self, item_name, price, quantity):\n",
        "        if item_name in self.cart:\n",
        "            self.cart[item_name]['quantity'] += quantity\n",
        "        else:\n",
        "            self.cart[item_name] = {'price': price, 'quantity': quantity}\n",
        "        print(f\"{quantity} {item_name}(s) added to cart\")\n",
        "\n",
        "\n",
        "    def remove_item(self, item_name, quantity):\n",
        "        if item_name in self.cart:\n",
        "            if self.cart[item_name]['quantity'] <= quantity:\n",
        "                del self.cart[item_name]\n",
        "                print(f\"{item_name} removed from cart\")\n",
        "            else:\n",
        "                self.cart[item_name]['quantity'] -= quantity\n",
        "                print(f\"{quantity} {item_name}(s) removed from cart\")\n",
        "        else:\n",
        "            print(f\"{item_name} not found in cart\")\n",
        "\n",
        "\n",
        "    def total_price(self):\n",
        "        total = sum(item['price'] * item['quantity'] for item in self.cart.values())\n",
        "        return total\n",
        "\n",
        "    def display_cart(self):\n",
        "        if not self.cart:\n",
        "            print(\"Cart is empty\")\n",
        "        else:\n",
        "            for item, details in self.cart.items():\n",
        "                print(f\"{item}: {details['quantity']} units at ${details['price']} each\")\n",
        "        print(f\"Total Price: ${self.total_price()}\")\n",
        "\n",
        "\n",
        "cart = ShoppingCart()\n",
        "cart.add_item(\"Apple\", 1.50, 3)\n",
        "cart.add_item(\"Banana\", 0.75, 6)\n",
        "cart.display_cart()\n",
        "cart.remove_item(\"Banana\", 2)\n",
        "cart.display_cart()\n"
      ],
      "metadata": {
        "colab": {
          "base_uri": "https://localhost:8080/"
        },
        "id": "R2sf3WhckE-s",
        "outputId": "d6fc04be-9fa4-471e-b028-ab7f00407427"
      },
      "execution_count": 21,
      "outputs": [
        {
          "output_type": "stream",
          "name": "stdout",
          "text": [
            "3 Apple(s) added to cart\n",
            "6 Banana(s) added to cart\n",
            "Apple: 3 units at $1.5 each\n",
            "Banana: 6 units at $0.75 each\n",
            "Total Price: $9.0\n",
            "2 Banana(s) removed from cart\n",
            "Apple: 3 units at $1.5 each\n",
            "Banana: 4 units at $0.75 each\n",
            "Total Price: $7.5\n"
          ]
        }
      ]
    },
    {
      "cell_type": "code",
      "source": [
        "# Assessment 4:\n",
        "# 1. Write a Python program to create a lambda function that adds 15 to a given number passed in as an argument, also create a lambda function that multiplies argument x with argument y and prints the result\n",
        "\n",
        "add = lambda x: x + 15\n",
        "print(add(50))\n",
        "\n",
        "multiply = lambda x, y: x * y\n",
        "print(multiply(4, 8))\n",
        "\n"
      ],
      "metadata": {
        "colab": {
          "base_uri": "https://localhost:8080/"
        },
        "id": "8TaPewQnm2OT",
        "outputId": "0af77c1c-670b-4e4a-ed67-8cdaa73e41a8"
      },
      "execution_count": 22,
      "outputs": [
        {
          "output_type": "stream",
          "name": "stdout",
          "text": [
            "65\n",
            "32\n"
          ]
        }
      ]
    },
    {
      "cell_type": "code",
      "source": [
        "# 2. Write a Python program to create a function that takes one argument, and that argument will be multiplied with an unknown given number.\n",
        "def multiplier(factor):\n",
        "    return lambda x: x * factor\n",
        "\n",
        "double = multiplier(2)\n",
        "triple = multiplier(3)\n",
        "\n",
        "print(double(6))\n",
        "print(triple(6))\n"
      ],
      "metadata": {
        "colab": {
          "base_uri": "https://localhost:8080/"
        },
        "id": "3_vRnLS0n226",
        "outputId": "db56609d-8b99-4adc-bd5c-9528da35144d"
      },
      "execution_count": 23,
      "outputs": [
        {
          "output_type": "stream",
          "name": "stdout",
          "text": [
            "12\n",
            "18\n"
          ]
        }
      ]
    },
    {
      "cell_type": "code",
      "source": [
        "# 3. Write a Python program to sort a list of tuples using Lambda. Original list of tuples: [('English', 88), ('Science', 90), ('Maths', 97), ('Social sciences', 82)] Sorting the List of Tuples: [('Social sciences', 82), ('English', 88), ('Science', 90), ('Maths', 97)]\n",
        "tuples_list = [('English', 88), ('Science', 90), ('Maths', 97), ('Social sciences', 82)]\n",
        "\n",
        "sorted_tuples = sorted(tuples_list, key=lambda x: x[1])\n",
        "print(\"Sorted List of Tuples:\", sorted_tuples)\n"
      ],
      "metadata": {
        "colab": {
          "base_uri": "https://localhost:8080/"
        },
        "id": "0R4wJgpzo5zs",
        "outputId": "1b30d4e9-c738-4225-d386-47e51ef5ff7e"
      },
      "execution_count": 24,
      "outputs": [
        {
          "output_type": "stream",
          "name": "stdout",
          "text": [
            "Sorted List of Tuples: [('Social sciences', 82), ('English', 88), ('Science', 90), ('Maths', 97)]\n"
          ]
        }
      ]
    },
    {
      "cell_type": "code",
      "source": [
        "#4. Write a Python program to sort a list of dictionaries using Lambda. Original list of dictionaries : [{'make': 'Nokia', 'model': 216, 'color': 'Black'}, {'make': 'Mi Max', 'model': '2', 'color': 'Gold'}, {'make': 'Samsung', 'model': 7, 'color': 'Blue'}] Sorting the List of dictionaries : [{'make': 'Nokia', 'model': 216, 'color': 'Black'}, {'make': 'Samsung', 'model': 7, 'color': 'Blue'}, {'make': 'Mi Max', 'model': '2', 'color': 'Gold'}]\n",
        "\n",
        "dicts_list = [{'make': 'Nokia', 'model': 216, 'color': 'Black'},\n",
        "              {'make': 'Mi Max', 'model': '2', 'color': 'Gold'},\n",
        "              {'make': 'Samsung', 'model': 7, 'color': 'Blue'}]\n",
        "\n",
        "# Sorting by 'model' in ascending\n",
        "sorted_dicts = sorted(dicts_list, key=lambda x: int(x['model']))\n",
        "print(\"Sorted List of Dictionaries:\", sorted_dicts)\n"
      ],
      "metadata": {
        "colab": {
          "base_uri": "https://localhost:8080/"
        },
        "id": "k5ErUt89r_cs",
        "outputId": "79bdab45-3540-4859-9875-2b92d631dbb1"
      },
      "execution_count": 25,
      "outputs": [
        {
          "output_type": "stream",
          "name": "stdout",
          "text": [
            "Sorted List of Dictionaries: [{'make': 'Mi Max', 'model': '2', 'color': 'Gold'}, {'make': 'Samsung', 'model': 7, 'color': 'Blue'}, {'make': 'Nokia', 'model': 216, 'color': 'Black'}]\n"
          ]
        }
      ]
    },
    {
      "cell_type": "code",
      "source": [
        "#5. Write a Python program to filter a list of integers using Lambda. Original list of integers: [1, 2, 3, 4, 5, 6, 7, 8, 9, 10] Even numbers from the said list: [2, 4, 6, 8, 10] Odd numbers from the said list: [1, 3, 5, 7, 9]\n",
        "\n",
        "nums = [1, 2, 3, 4, 5, 6, 7, 8, 9, 10]\n",
        "even_nums = list(filter(lambda x: x % 2 == 0, nums))\n",
        "odd_nums = list(filter(lambda x: x % 2 != 0, nums))\n",
        "print(\"Even numbers:\", even_nums)\n",
        "print(\"Odd numbers:\", odd_nums)\n"
      ],
      "metadata": {
        "colab": {
          "base_uri": "https://localhost:8080/"
        },
        "id": "SJX48EqjsK0l",
        "outputId": "8f53e57f-2d12-466a-c3ee-57dcd036f0f0"
      },
      "execution_count": 26,
      "outputs": [
        {
          "output_type": "stream",
          "name": "stdout",
          "text": [
            "Even numbers: [2, 4, 6, 8, 10]\n",
            "Odd numbers: [1, 3, 5, 7, 9]\n"
          ]
        }
      ]
    },
    {
      "cell_type": "code",
      "source": [
        "#6. Write a Python program to square and cube every number in a given list of integers using Lambda. Original list of integers: [1, 2, 3, 4, 5, 6, 7, 8, 9, 10] Square every number of the said list: [1, 4, 9, 16, 25, 36, 49, 64, 81, 100] Cube every number of the said list: [1, 8, 27, 64, 125, 216, 343, 512, 729, 1000]\n",
        "nums = [1, 2, 3, 4, 5, 6, 7, 8, 9, 10]\n",
        "squares = list(map(lambda x: x**2, nums))\n",
        "cubes = list(map(lambda x: x**3, nums))\n",
        "\n",
        "print(\"Square of every number:\", squares)\n",
        "print(\"Cube of every number:\", cubes)"
      ],
      "metadata": {
        "colab": {
          "base_uri": "https://localhost:8080/"
        },
        "id": "9uqB3AzEsPWp",
        "outputId": "d35b4232-2e91-4c9c-ba3b-0540a048008e"
      },
      "execution_count": 27,
      "outputs": [
        {
          "output_type": "stream",
          "name": "stdout",
          "text": [
            "Square of every number: [1, 4, 9, 16, 25, 36, 49, 64, 81, 100]\n",
            "Cube of every number: [1, 8, 27, 64, 125, 216, 343, 512, 729, 1000]\n"
          ]
        }
      ]
    },
    {
      "cell_type": "code",
      "source": [
        "#7. 7. Write a Python program to find if a given string starts with a given character using Lambda. Sample Output: True False\n",
        "starts_with = lambda s, char: s.startswith(char)\n",
        "print(starts_with(\"Python\", \"P\"))\n",
        "print(starts_with(\"Java\", \"P\"))\n"
      ],
      "metadata": {
        "colab": {
          "base_uri": "https://localhost:8080/"
        },
        "id": "H-3kzsI7stMF",
        "outputId": "60910c5d-a2e0-4e00-c593-f085c1ee0b44"
      },
      "execution_count": 28,
      "outputs": [
        {
          "output_type": "stream",
          "name": "stdout",
          "text": [
            "True\n",
            "False\n"
          ]
        }
      ]
    },
    {
      "cell_type": "code",
      "source": [
        "#8 . 8. Write a Python program to extract year, month, date and time using Lambda. Sample Output: 2020-01-15 09:03:32.744178 2020 1 15 09:03:32.744178\n",
        "from datetime import datetime\n",
        "current_datetime = datetime.now()\n",
        "\n",
        "year = lambda dt: dt.year\n",
        "month = lambda dt: dt.month\n",
        "day = lambda dt: dt.day\n",
        "time = lambda dt: dt.time()\n",
        "\n",
        "print(current_datetime)\n",
        "print(year(current_datetime))\n",
        "print(month(current_datetime))\n",
        "print(day(current_datetime))\n",
        "print(time(current_datetime))\n"
      ],
      "metadata": {
        "colab": {
          "base_uri": "https://localhost:8080/"
        },
        "id": "9aIkEPLfstQD",
        "outputId": "e2e0eaad-2e3b-478a-812c-78c91211f944"
      },
      "execution_count": 29,
      "outputs": [
        {
          "output_type": "stream",
          "name": "stdout",
          "text": [
            "2024-09-15 08:18:35.710441\n",
            "2024\n",
            "9\n",
            "15\n",
            "08:18:35.710441\n"
          ]
        }
      ]
    },
    {
      "cell_type": "code",
      "source": [
        "#9. Write a Python program to check whether a given string is a number or not using Lambda.\n",
        "\n",
        "is_number = lambda s: s.replace('.', '', 1).isdigit() if s[0] != '-' else s[1:].replace('.', '', 1).isdigit()\n",
        "print(is_number(\"123\"))\n",
        "print(is_number(\"12.3\"))\n",
        "print(is_number(\"abc\"))\n",
        "print(is_number(\"-123\"))\n",
        "print(is_number(\"12a\"))\n"
      ],
      "metadata": {
        "colab": {
          "base_uri": "https://localhost:8080/"
        },
        "id": "R9GCLbyOstTu",
        "outputId": "50779774-2fcc-4005-f014-e5a4d370e524"
      },
      "execution_count": 30,
      "outputs": [
        {
          "output_type": "stream",
          "name": "stdout",
          "text": [
            "True\n",
            "True\n",
            "False\n",
            "True\n",
            "False\n"
          ]
        }
      ]
    },
    {
      "cell_type": "code",
      "source": [
        "#10 Write a Python program to create Fibonacci series up to n using Lambda\n",
        "from functools import reduce\n",
        "fibonacci = lambda n: reduce(lambda x, _: x + [x[-1] + x[-2]], range(n-2), [0, 1]) if n > 1 else [0] if n == 1 else []\n",
        "print(\"Fibonacci series up to 6:\", fibonacci(6))\n"
      ],
      "metadata": {
        "colab": {
          "base_uri": "https://localhost:8080/"
        },
        "id": "ncds_2yQumiq",
        "outputId": "c7df5e0b-abf1-4795-f7d2-6ecfe190cdb4"
      },
      "execution_count": 31,
      "outputs": [
        {
          "output_type": "stream",
          "name": "stdout",
          "text": [
            "Fibonacci series up to 6: [0, 1, 1, 2, 3, 5]\n"
          ]
        }
      ]
    },
    {
      "cell_type": "code",
      "source": [
        "#11 11. Write a Python program to find the intersection of two given arrays using Lambda.\n",
        "array1 = [1, 2, 3, 5, 7, 8, 9, 10]\n",
        "array2 = [1, 2, 4, 8, 9]\n",
        "intersection = list(filter(lambda x: x in array2, array1))\n",
        "print(\"Intersection of the arrays:\", intersection)\n"
      ],
      "metadata": {
        "colab": {
          "base_uri": "https://localhost:8080/"
        },
        "id": "TWNWmeaoumkv",
        "outputId": "2ca6fefd-07f7-48c2-9919-a9d674cb63c8"
      },
      "execution_count": 32,
      "outputs": [
        {
          "output_type": "stream",
          "name": "stdout",
          "text": [
            "Intersection of the arrays: [1, 2, 8, 9]\n"
          ]
        }
      ]
    },
    {
      "cell_type": "code",
      "source": [],
      "metadata": {
        "id": "ppuOkz71um0p"
      },
      "execution_count": null,
      "outputs": []
    }
  ]
}